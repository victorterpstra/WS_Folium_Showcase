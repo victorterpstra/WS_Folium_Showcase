{
 "cells": [
  {
   "cell_type": "code",
   "execution_count": 2,
   "metadata": {
    "collapsed": true,
    "deletable": true,
    "editable": true
   },
   "outputs": [],
   "source": [
    "import folium"
   ]
  },
  {
   "cell_type": "code",
   "execution_count": 46,
   "metadata": {
    "collapsed": true,
    "deletable": true,
    "editable": true
   },
   "outputs": [],
   "source": [
    "kansas_city_coord = [39.085594, -94.585241]  # Kansas City, roughly the geographic center of the USA\n",
    "san_fransisco_coord = [37.77, -122.41] #[37.77, 122.41]\n",
    "boston_coord = [42.36, -71.06] #[42.36, 71.06]"
   ]
  },
  {
   "cell_type": "markdown",
   "metadata": {
    "deletable": true,
    "editable": true
   },
   "source": [
    "# Create a blank map"
   ]
  },
  {
   "cell_type": "code",
   "execution_count": 47,
   "metadata": {
    "collapsed": true,
    "deletable": true,
    "editable": true
   },
   "outputs": [],
   "source": [
    "def create_blank_map():\n",
    "    m = folium.Map(location=kansas_city_coord, zoom_start=5, tiles='cartodbpositron', width='100%', height='100%')\n",
    "    return m"
   ]
  },
  {
   "cell_type": "code",
   "execution_count": 48,
   "metadata": {
    "collapsed": false,
    "deletable": true,
    "editable": true
   },
   "outputs": [
    {
     "data": {
      "text/html": [
       "<div style=\"width:100%;\"><div style=\"position:relative;width:100%;height:0;padding-bottom:60%;\"><iframe src=\"data:text/html;charset=utf-8;base64,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\" style=\"position:absolute;width:100%;height:100%;left:0;top:0;border:none !important;\" allowfullscreen webkitallowfullscreen mozallowfullscreen></iframe></div></div>"
      ],
      "text/plain": [
       "<folium.folium.Map at 0x7ff1da1fca90>"
      ]
     },
     "execution_count": 48,
     "metadata": {},
     "output_type": "execute_result"
    }
   ],
   "source": [
    "create_blank_map()"
   ]
  },
  {
   "cell_type": "markdown",
   "metadata": {
    "deletable": true,
    "editable": true
   },
   "source": [
    "# Basic markers, circles and lines\n",
    "Marker with a colored icon, a tooltip and a multi-line popup. \n",
    "\n",
    "## Layer control\n",
    "In order to be able to hide groups of elements, add them to a FeatureGroup.<br>\n",
    "Then add a LayerControl to the map. This will automatically pickup any FeatureGroups.\n",
    "\n",
    "## Icons\n",
    "For ids of icons, see https://fontawesome.com/icons?d=gallery&q=shopp&m=free\n",
    "\n",
    "## Multi-line popup\n",
    "Work-around for multi-line in popup: https://github.com/python-visualization/folium/issues/469\n",
    "`popup = (\n",
    "        \"Time: {time}<br>\"\n",
    "        \"Speed: {speed} km/h<br>\"\n",
    "       ).format(time=row.name.strftime('%H:%M'), speed=str(round(row['spd'],2))`"
   ]
  },
  {
   "cell_type": "code",
   "execution_count": 63,
   "metadata": {
    "collapsed": false,
    "deletable": true,
    "editable": true
   },
   "outputs": [],
   "source": [
    "def create_basic_markers_map():\n",
    "    m = create_blank_map()\n",
    "    fg = folium.FeatureGroup(name='Basic markers')\n",
    "    \n",
    "    # Marker with icon, tooltip and popup\n",
    "    coord = boston_coord\n",
    "    icon = folium.Icon(color='green',\n",
    "        icon_color='white',\n",
    "        icon='shopping-cart',\n",
    "        angle=0, prefix='fa')\n",
    "    popup = (\n",
    "        \"Hello, I am {}.<br>\"\n",
    "        \"Welcome to my showcase in {}.\"\n",
    "            ).format('Boston', 2019)\n",
    "    tooltip = 'Boston'\n",
    "    folium.Marker(coord,\n",
    "        popup=popup,\n",
    "        tooltip=tooltip,\n",
    "        icon=icon\n",
    "        ).add_to(fg)\n",
    "    \n",
    "    \n",
    "    # Circle 1, tooltip and popup\n",
    "    coord_1 = kansas_city_coord\n",
    "    popup_1 = (\n",
    "        \"Hello, I am {}.<br>\"\n",
    "        \"Welcome to my showcase in {}.\"\n",
    "            ).format('Kansas', 2019)\n",
    "    radius_1 = 20\n",
    "    folium.CircleMarker(coord_1,\n",
    "        radius=radius_1,\n",
    "        popup=popup_1,\n",
    "        tooltip='Kansas',\n",
    "        color='blue',\n",
    "        fill_color='green',\n",
    "        fill=True,\n",
    "        fill_opacity=0.4,\n",
    "        stroke=True,\n",
    "        ).add_to(fg)\n",
    "    \n",
    "    # Circle 2, tooltip and popup\n",
    "    coord_2 = san_fransisco_coord\n",
    "    popup_2 = (\n",
    "        \"Hello, I am {}.<br>\"\n",
    "        \"Welcome to my showcase in {}.\"\n",
    "            ).format('San Fransisco', 1972)\n",
    "    radius_2 = 40\n",
    "    folium.CircleMarker(coord_2,\n",
    "        radius=radius_2,\n",
    "        popup=popup_2,\n",
    "        tooltip='San Fransisco',\n",
    "        color='red',\n",
    "        fill_color='orange',\n",
    "        fill=True,\n",
    "        fill_opacity=0.4,\n",
    "        stroke=True,\n",
    "        ).add_to(fg)\n",
    "                 \n",
    "    # Line\n",
    "    coordinates = [kansas_city_coord, boston_coord]\n",
    "    folium.PolyLine(coordinates, popup=\"Line\", tooltip=\"Line tooltip\", color='blue', weight=5).add_to(fg)\n",
    "    \n",
    "\n",
    "    fg.add_to(m)\n",
    "    folium.LayerControl(position='topleft').add_to(m)\n",
    "    return m"
   ]
  },
  {
   "cell_type": "code",
   "execution_count": 64,
   "metadata": {
    "collapsed": false,
    "deletable": true,
    "editable": true,
    "scrolled": false
   },
   "outputs": [
    {
     "data": {
      "text/html": [
       "<div style=\"width:100%;\"><div style=\"position:relative;width:100%;height:0;padding-bottom:60%;\"><iframe src=\"data:text/html;charset=utf-8;base64,PCFET0NUWVBFIGh0bWw+CjxoZWFkPiAgICAKICAgIDxtZXRhIGh0dHAtZXF1aXY9ImNvbnRlbnQtdHlwZSIgY29udGVudD0idGV4dC9odG1sOyBjaGFyc2V0PVVURi04IiAvPgogICAgPHNjcmlwdD5MX1BSRUZFUl9DQU5WQVM9ZmFsc2U7IExfTk9fVE9VQ0g9ZmFsc2U7IExfRElTQUJMRV8zRD1mYWxzZTs8L3NjcmlwdD4KICAgIDxzY3JpcHQgc3JjPSJodHRwczovL2Nkbi5qc2RlbGl2ci5uZXQvbnBtL2xlYWZsZXRAMS4zLjQvZGlzdC9sZWFmbGV0LmpzIj48L3NjcmlwdD4KICAgIDxzY3JpcHQgc3JjPSJodHRwczovL2FqYXguZ29vZ2xlYXBpcy5jb20vYWpheC9saWJzL2pxdWVyeS8xLjExLjEvanF1ZXJ5Lm1pbi5qcyI+PC9zY3JpcHQ+CiAgICA8c2NyaXB0IHNyYz0iaHR0cHM6Ly9tYXhjZG4uYm9vdHN0cmFwY2RuLmNvbS9ib290c3RyYXAvMy4yLjAvanMvYm9vdHN0cmFwLm1pbi5qcyI+PC9zY3JpcHQ+CiAgICA8c2NyaXB0IHNyYz0iaHR0cHM6Ly9jZG5qcy5jbG91ZGZsYXJlLmNvbS9hamF4L2xpYnMvTGVhZmxldC5hd2Vzb21lLW1hcmtlcnMvMi4wLjIvbGVhZmxldC5hd2Vzb21lLW1hcmtlcnMuanMiPjwvc2NyaXB0PgogICAgPGxpbmsgcmVsPSJzdHlsZXNoZWV0IiBocmVmPSJodHRwczovL2Nkbi5qc2RlbGl2ci5uZXQvbnBtL2xlYWZsZXRAMS4zLjQvZGlzdC9sZWFmbGV0LmNzcyIvPgogICAgPGxpbmsgcmVsPSJzdHlsZXNoZWV0IiBocmVmPSJodHRwczovL21heGNkbi5ib290c3RyYXBjZG4uY29tL2Jvb3RzdHJhcC8zLjIuMC9jc3MvYm9vdHN0cmFwLm1pbi5jc3MiLz4KICAgIDxsaW5rIHJlbD0ic3R5bGVzaGVldCIgaHJlZj0iaHR0cHM6Ly9tYXhjZG4uYm9vdHN0cmFwY2RuLmNvbS9ib290c3RyYXAvMy4yLjAvY3NzL2Jvb3RzdHJhcC10aGVtZS5taW4uY3NzIi8+CiAgICA8bGluayByZWw9InN0eWxlc2hlZXQiIGhyZWY9Imh0dHBzOi8vbWF4Y2RuLmJvb3RzdHJhcGNkbi5jb20vZm9udC1hd2Vzb21lLzQuNi4zL2Nzcy9mb250LWF3ZXNvbWUubWluLmNzcyIvPgogICAgPGxpbmsgcmVsPSJzdHlsZXNoZWV0IiBocmVmPSJodHRwczovL2NkbmpzLmNsb3VkZmxhcmUuY29tL2FqYXgvbGlicy9MZWFmbGV0LmF3ZXNvbWUtbWFya2Vycy8yLjAuMi9sZWFmbGV0LmF3ZXNvbWUtbWFya2Vycy5jc3MiLz4KICAgIDxsaW5rIHJlbD0ic3R5bGVzaGVldCIgaHJlZj0iaHR0cHM6Ly9yYXdjZG4uZ2l0aGFjay5jb20vcHl0aG9uLXZpc3VhbGl6YXRpb24vZm9saXVtL21hc3Rlci9mb2xpdW0vdGVtcGxhdGVzL2xlYWZsZXQuYXdlc29tZS5yb3RhdGUuY3NzIi8+CiAgICA8c3R5bGU+aHRtbCwgYm9keSB7d2lkdGg6IDEwMCU7aGVpZ2h0OiAxMDAlO21hcmdpbjogMDtwYWRkaW5nOiAwO308L3N0eWxlPgogICAgPHN0eWxlPiNtYXAge3Bvc2l0aW9uOmFic29sdXRlO3RvcDowO2JvdHRvbTowO3JpZ2h0OjA7bGVmdDowO308L3N0eWxlPgogICAgCiAgICA8bWV0YSBuYW1lPSJ2aWV3cG9ydCIgY29udGVudD0id2lkdGg9ZGV2aWNlLXdpZHRoLAogICAgICAgIGluaXRpYWwtc2NhbGU9MS4wLCBtYXhpbXVtLXNjYWxlPTEuMCwgdXNlci1zY2FsYWJsZT1ubyIgLz4KICAgIDxzdHlsZT4jbWFwXzg0YjFlZjZkZDdlZDRiY2NhYTQ1OTQ0YTAyYzc1YTQ4IHsKICAgICAgICBwb3NpdGlvbjogcmVsYXRpdmU7CiAgICAgICAgd2lkdGg6IDEwMC4wJTsKICAgICAgICBoZWlnaHQ6IDEwMC4wJTsKICAgICAgICBsZWZ0OiAwLjAlOwogICAgICAgIHRvcDogMC4wJTsKICAgICAgICB9CiAgICA8L3N0eWxlPgo8L2hlYWQ+Cjxib2R5PiAgICAKICAgIAogICAgPGRpdiBjbGFzcz0iZm9saXVtLW1hcCIgaWQ9Im1hcF84NGIxZWY2ZGQ3ZWQ0YmNjYWE0NTk0NGEwMmM3NWE0OCIgPjwvZGl2Pgo8L2JvZHk+CjxzY3JpcHQ+ICAgIAogICAgCiAgICAKICAgICAgICB2YXIgYm91bmRzID0gbnVsbDsKICAgIAoKICAgIHZhciBtYXBfODRiMWVmNmRkN2VkNGJjY2FhNDU5NDRhMDJjNzVhNDggPSBMLm1hcCgKICAgICAgICAnbWFwXzg0YjFlZjZkZDdlZDRiY2NhYTQ1OTQ0YTAyYzc1YTQ4JywgewogICAgICAgIGNlbnRlcjogWzM5LjA4NTU5NCwgLTk0LjU4NTI0MV0sCiAgICAgICAgem9vbTogNSwKICAgICAgICBtYXhCb3VuZHM6IGJvdW5kcywKICAgICAgICBsYXllcnM6IFtdLAogICAgICAgIHdvcmxkQ29weUp1bXA6IGZhbHNlLAogICAgICAgIGNyczogTC5DUlMuRVBTRzM4NTcsCiAgICAgICAgem9vbUNvbnRyb2w6IHRydWUsCiAgICAgICAgfSk7CgogICAgCiAgICAKICAgIHZhciB0aWxlX2xheWVyX2IzY2I3NTFmNDM4NTRmOGRiNzM5NmJhYjQ3Mzk2YjMwID0gTC50aWxlTGF5ZXIoCiAgICAgICAgJ2h0dHBzOi8vY2FydG9kYi1iYXNlbWFwcy17c30uZ2xvYmFsLnNzbC5mYXN0bHkubmV0L2xpZ2h0X2FsbC97en0ve3h9L3t5fS5wbmcnLAogICAgICAgIHsKICAgICAgICAiYXR0cmlidXRpb24iOiBudWxsLAogICAgICAgICJkZXRlY3RSZXRpbmEiOiBmYWxzZSwKICAgICAgICAibWF4TmF0aXZlWm9vbSI6IDE4LAogICAgICAgICJtYXhab29tIjogMTgsCiAgICAgICAgIm1pblpvb20iOiAwLAogICAgICAgICJub1dyYXAiOiBmYWxzZSwKICAgICAgICAib3BhY2l0eSI6IDEsCiAgICAgICAgInN1YmRvbWFpbnMiOiAiYWJjIiwKICAgICAgICAidG1zIjogZmFsc2UKfSkuYWRkVG8obWFwXzg0YjFlZjZkZDdlZDRiY2NhYTQ1OTQ0YTAyYzc1YTQ4KTsKICAgIAogICAgICAgICAgICB2YXIgZmVhdHVyZV9ncm91cF9jY2MyOTY2YWJhZDY0ZjcwYThhZDc0MjUwYWZmY2RiZiA9IEwuZmVhdHVyZUdyb3VwKAogICAgICAgICAgICAgICAgKS5hZGRUbyhtYXBfODRiMWVmNmRkN2VkNGJjY2FhNDU5NDRhMDJjNzVhNDgpOwogICAgICAgIAogICAgCiAgICAgICAgdmFyIG1hcmtlcl9hYjQ4MWU0MzMyZGE0ZWU4OWVhYWYwYzRmNDgxMzIwNyA9IEwubWFya2VyKAogICAgICAgICAgICBbNDIuMzYsIC03MS4wNl0sCiAgICAgICAgICAgIHsKICAgICAgICAgICAgICAgIGljb246IG5ldyBMLkljb24uRGVmYXVsdCgpCiAgICAgICAgICAgICAgICB9CiAgICAgICAgICAgICkuYWRkVG8oZmVhdHVyZV9ncm91cF9jY2MyOTY2YWJhZDY0ZjcwYThhZDc0MjUwYWZmY2RiZik7CiAgICAgICAgCiAgICAKCiAgICAgICAgICAgICAgICB2YXIgaWNvbl9iYjM1N2RhYzkxODc0ZTc1YmVhZWI4MjNkYmYwNWY3NCA9IEwuQXdlc29tZU1hcmtlcnMuaWNvbih7CiAgICAgICAgICAgICAgICAgICAgaWNvbjogJ3Nob3BwaW5nLWNhcnQnLAogICAgICAgICAgICAgICAgICAgIGljb25Db2xvcjogJ3doaXRlJywKICAgICAgICAgICAgICAgICAgICBtYXJrZXJDb2xvcjogJ2dyZWVuJywKICAgICAgICAgICAgICAgICAgICBwcmVmaXg6ICdmYScsCiAgICAgICAgICAgICAgICAgICAgZXh0cmFDbGFzc2VzOiAnZmEtcm90YXRlLTAnCiAgICAgICAgICAgICAgICAgICAgfSk7CiAgICAgICAgICAgICAgICBtYXJrZXJfYWI0ODFlNDMzMmRhNGVlODllYWFmMGM0ZjQ4MTMyMDcuc2V0SWNvbihpY29uX2JiMzU3ZGFjOTE4NzRlNzViZWFlYjgyM2RiZjA1Zjc0KTsKICAgICAgICAgICAgCiAgICAKICAgICAgICAgICAgdmFyIHBvcHVwX2FjNzY4YWIwYTFmZjQwNTE4MzNhZDNiYjk1MzJjZjMyID0gTC5wb3B1cCh7bWF4V2lkdGg6ICczMDAnCiAgICAgICAgICAgIAogICAgICAgICAgICB9KTsKCiAgICAgICAgICAgIAogICAgICAgICAgICAgICAgdmFyIGh0bWxfOGZiMjIyMjBmMDM5NGUzNjkxN2NlYWI0NmQ0YjQzZDEgPSAkKGA8ZGl2IGlkPSJodG1sXzhmYjIyMjIwZjAzOTRlMzY5MTdjZWFiNDZkNGI0M2QxIiBzdHlsZT0id2lkdGg6IDEwMC4wJTsgaGVpZ2h0OiAxMDAuMCU7Ij5IZWxsbywgSSBhbSBCb3N0b24uPGJyPldlbGNvbWUgdG8gbXkgc2hvd2Nhc2UgaW4gMjAxOS48L2Rpdj5gKVswXTsKICAgICAgICAgICAgICAgIHBvcHVwX2FjNzY4YWIwYTFmZjQwNTE4MzNhZDNiYjk1MzJjZjMyLnNldENvbnRlbnQoaHRtbF84ZmIyMjIyMGYwMzk0ZTM2OTE3Y2VhYjQ2ZDRiNDNkMSk7CiAgICAgICAgICAgIAoKICAgICAgICAgICAgbWFya2VyX2FiNDgxZTQzMzJkYTRlZTg5ZWFhZjBjNGY0ODEzMjA3LmJpbmRQb3B1cChwb3B1cF9hYzc2OGFiMGExZmY0MDUxODMzYWQzYmI5NTMyY2YzMikKICAgICAgICAgICAgOwoKICAgICAgICAgICAgCiAgICAgICAgCiAgICAKICAgICAgICBtYXJrZXJfYWI0ODFlNDMzMmRhNGVlODllYWFmMGM0ZjQ4MTMyMDcuYmluZFRvb2x0aXAoCiAgICAgICAgICAgIGA8ZGl2PmAKICAgICAgICAgICAgKyBgQm9zdG9uYCArIGA8L2Rpdj5gLAogICAgICAgICAgICB7InN0aWNreSI6IHRydWV9CiAgICAgICAgKTsKICAgICAgICAKICAgIAogICAgICAgICAgICB2YXIgY2lyY2xlX21hcmtlcl80MTBkZjk1YWFjODI0YWNhYTdiYzliNDhiOGYxYTUyYSA9IEwuY2lyY2xlTWFya2VyKAogICAgICAgICAgICAgICAgWzM5LjA4NTU5NCwgLTk0LjU4NTI0MV0sCiAgICAgICAgICAgICAgICB7CiAgImJ1YmJsaW5nTW91c2VFdmVudHMiOiB0cnVlLAogICJjb2xvciI6ICJibHVlIiwKICAiZGFzaEFycmF5IjogbnVsbCwKICAiZGFzaE9mZnNldCI6IG51bGwsCiAgImZpbGwiOiB0cnVlLAogICJmaWxsQ29sb3IiOiAiZ3JlZW4iLAogICJmaWxsT3BhY2l0eSI6IDAuNCwKICAiZmlsbFJ1bGUiOiAiZXZlbm9kZCIsCiAgImxpbmVDYXAiOiAicm91bmQiLAogICJsaW5lSm9pbiI6ICJyb3VuZCIsCiAgIm9wYWNpdHkiOiAxLjAsCiAgInJhZGl1cyI6IDIwLAogICJzdHJva2UiOiB0cnVlLAogICJ3ZWlnaHQiOiAzCn0KICAgICAgICAgICAgICAgICkKICAgICAgICAgICAgICAgIC5hZGRUbyhmZWF0dXJlX2dyb3VwX2NjYzI5NjZhYmFkNjRmNzBhOGFkNzQyNTBhZmZjZGJmKTsKICAgICAgICAgICAgCiAgICAKICAgICAgICAgICAgdmFyIHBvcHVwXzBhMGJkNGM0YTM3OTQ3YWJhZjFjN2Q2YWI1MDUyMTY5ID0gTC5wb3B1cCh7bWF4V2lkdGg6ICczMDAnCiAgICAgICAgICAgIAogICAgICAgICAgICB9KTsKCiAgICAgICAgICAgIAogICAgICAgICAgICAgICAgdmFyIGh0bWxfMmE2Zjg2ZjdlZjg0NDAyM2E5NzA3Njk2ZjRmOTU0YjAgPSAkKGA8ZGl2IGlkPSJodG1sXzJhNmY4NmY3ZWY4NDQwMjNhOTcwNzY5NmY0Zjk1NGIwIiBzdHlsZT0id2lkdGg6IDEwMC4wJTsgaGVpZ2h0OiAxMDAuMCU7Ij5IZWxsbywgSSBhbSBLYW5zYXMuPGJyPldlbGNvbWUgdG8gbXkgc2hvd2Nhc2UgaW4gMjAxOS48L2Rpdj5gKVswXTsKICAgICAgICAgICAgICAgIHBvcHVwXzBhMGJkNGM0YTM3OTQ3YWJhZjFjN2Q2YWI1MDUyMTY5LnNldENvbnRlbnQoaHRtbF8yYTZmODZmN2VmODQ0MDIzYTk3MDc2OTZmNGY5NTRiMCk7CiAgICAgICAgICAgIAoKICAgICAgICAgICAgY2lyY2xlX21hcmtlcl80MTBkZjk1YWFjODI0YWNhYTdiYzliNDhiOGYxYTUyYS5iaW5kUG9wdXAocG9wdXBfMGEwYmQ0YzRhMzc5NDdhYmFmMWM3ZDZhYjUwNTIxNjkpCiAgICAgICAgICAgIDsKCiAgICAgICAgICAgIAogICAgICAgIAogICAgCiAgICAgICAgY2lyY2xlX21hcmtlcl80MTBkZjk1YWFjODI0YWNhYTdiYzliNDhiOGYxYTUyYS5iaW5kVG9vbHRpcCgKICAgICAgICAgICAgYDxkaXY+YAogICAgICAgICAgICArIGBLYW5zYXNgICsgYDwvZGl2PmAsCiAgICAgICAgICAgIHsic3RpY2t5IjogdHJ1ZX0KICAgICAgICApOwogICAgICAgIAogICAgCiAgICAgICAgICAgIHZhciBjaXJjbGVfbWFya2VyX2Y5NzdlZTM3ZjAwMDQyYTY4ZGUzYWU4NDNhM2QyOGE5ID0gTC5jaXJjbGVNYXJrZXIoCiAgICAgICAgICAgICAgICBbMzcuNzcsIC0xMjIuNDFdLAogICAgICAgICAgICAgICAgewogICJidWJibGluZ01vdXNlRXZlbnRzIjogdHJ1ZSwKICAiY29sb3IiOiAicmVkIiwKICAiZGFzaEFycmF5IjogbnVsbCwKICAiZGFzaE9mZnNldCI6IG51bGwsCiAgImZpbGwiOiB0cnVlLAogICJmaWxsQ29sb3IiOiAib3JhbmdlIiwKICAiZmlsbE9wYWNpdHkiOiAwLjQsCiAgImZpbGxSdWxlIjogImV2ZW5vZGQiLAogICJsaW5lQ2FwIjogInJvdW5kIiwKICAibGluZUpvaW4iOiAicm91bmQiLAogICJvcGFjaXR5IjogMS4wLAogICJyYWRpdXMiOiA0MCwKICAic3Ryb2tlIjogdHJ1ZSwKICAid2VpZ2h0IjogMwp9CiAgICAgICAgICAgICAgICApCiAgICAgICAgICAgICAgICAuYWRkVG8oZmVhdHVyZV9ncm91cF9jY2MyOTY2YWJhZDY0ZjcwYThhZDc0MjUwYWZmY2RiZik7CiAgICAgICAgICAgIAogICAgCiAgICAgICAgICAgIHZhciBwb3B1cF8yYzQwMjNjZDU1ZDg0MGYyYmM4Yjg4NjdkZWMzNDdlNSA9IEwucG9wdXAoe21heFdpZHRoOiAnMzAwJwogICAgICAgICAgICAKICAgICAgICAgICAgfSk7CgogICAgICAgICAgICAKICAgICAgICAgICAgICAgIHZhciBodG1sXzZjOTgwYmZjNWNjNzRmNjhiMWY0ZjEzZDU2OTIwN2JkID0gJChgPGRpdiBpZD0iaHRtbF82Yzk4MGJmYzVjYzc0ZjY4YjFmNGYxM2Q1NjkyMDdiZCIgc3R5bGU9IndpZHRoOiAxMDAuMCU7IGhlaWdodDogMTAwLjAlOyI+SGVsbG8sIEkgYW0gU2FuIEZyYW5zaXNjby48YnI+V2VsY29tZSB0byBteSBzaG93Y2FzZSBpbiAxOTcyLjwvZGl2PmApWzBdOwogICAgICAgICAgICAgICAgcG9wdXBfMmM0MDIzY2Q1NWQ4NDBmMmJjOGI4ODY3ZGVjMzQ3ZTUuc2V0Q29udGVudChodG1sXzZjOTgwYmZjNWNjNzRmNjhiMWY0ZjEzZDU2OTIwN2JkKTsKICAgICAgICAgICAgCgogICAgICAgICAgICBjaXJjbGVfbWFya2VyX2Y5NzdlZTM3ZjAwMDQyYTY4ZGUzYWU4NDNhM2QyOGE5LmJpbmRQb3B1cChwb3B1cF8yYzQwMjNjZDU1ZDg0MGYyYmM4Yjg4NjdkZWMzNDdlNSkKICAgICAgICAgICAgOwoKICAgICAgICAgICAgCiAgICAgICAgCiAgICAKICAgICAgICBjaXJjbGVfbWFya2VyX2Y5NzdlZTM3ZjAwMDQyYTY4ZGUzYWU4NDNhM2QyOGE5LmJpbmRUb29sdGlwKAogICAgICAgICAgICBgPGRpdj5gCiAgICAgICAgICAgICsgYFNhbiBGcmFuc2lzY29gICsgYDwvZGl2PmAsCiAgICAgICAgICAgIHsic3RpY2t5IjogdHJ1ZX0KICAgICAgICApOwogICAgICAgIAogICAgCiAgICAgICAgICAgICAgICB2YXIgcG9seV9saW5lX2MyMzMzZDdjYzFmNTQyNjg4MmNiYWY5ZmEwNDY1ZmUyID0gTC5wb2x5bGluZSgKICAgICAgICAgICAgICAgICAgICBbWzM5LjA4NTU5NCwgLTk0LjU4NTI0MV0sIFs0Mi4zNiwgLTcxLjA2XV0sCiAgICAgICAgICAgICAgICAgICAgewogICJidWJibGluZ01vdXNlRXZlbnRzIjogdHJ1ZSwKICAiY29sb3IiOiAiYmx1ZSIsCiAgImRhc2hBcnJheSI6IG51bGwsCiAgImRhc2hPZmZzZXQiOiBudWxsLAogICJmaWxsIjogZmFsc2UsCiAgImZpbGxDb2xvciI6ICJibHVlIiwKICAiZmlsbE9wYWNpdHkiOiAwLjIsCiAgImZpbGxSdWxlIjogImV2ZW5vZGQiLAogICJsaW5lQ2FwIjogInJvdW5kIiwKICAibGluZUpvaW4iOiAicm91bmQiLAogICJub0NsaXAiOiBmYWxzZSwKICAib3BhY2l0eSI6IDEuMCwKICAic21vb3RoRmFjdG9yIjogMS4wLAogICJzdHJva2UiOiB0cnVlLAogICJ3ZWlnaHQiOiA1Cn0KICAgICAgICAgICAgICAgICAgICApCiAgICAgICAgICAgICAgICAgICAgLmFkZFRvKGZlYXR1cmVfZ3JvdXBfY2NjMjk2NmFiYWQ2NGY3MGE4YWQ3NDI1MGFmZmNkYmYpOwogICAgICAgICAgICAKICAgIAogICAgICAgICAgICB2YXIgcG9wdXBfNmQ3YWY4OWYwNTExNDA5MDk3MWY5YTRlZmZkOTExYzUgPSBMLnBvcHVwKHttYXhXaWR0aDogJzMwMCcKICAgICAgICAgICAgCiAgICAgICAgICAgIH0pOwoKICAgICAgICAgICAgCiAgICAgICAgICAgICAgICB2YXIgaHRtbF84ZWE4NTM5YmM3M2Y0NDQxYmZlZDYzYjU1ZGI2YTViZCA9ICQoYDxkaXYgaWQ9Imh0bWxfOGVhODUzOWJjNzNmNDQ0MWJmZWQ2M2I1NWRiNmE1YmQiIHN0eWxlPSJ3aWR0aDogMTAwLjAlOyBoZWlnaHQ6IDEwMC4wJTsiPkxpbmU8L2Rpdj5gKVswXTsKICAgICAgICAgICAgICAgIHBvcHVwXzZkN2FmODlmMDUxMTQwOTA5NzFmOWE0ZWZmZDkxMWM1LnNldENvbnRlbnQoaHRtbF84ZWE4NTM5YmM3M2Y0NDQxYmZlZDYzYjU1ZGI2YTViZCk7CiAgICAgICAgICAgIAoKICAgICAgICAgICAgcG9seV9saW5lX2MyMzMzZDdjYzFmNTQyNjg4MmNiYWY5ZmEwNDY1ZmUyLmJpbmRQb3B1cChwb3B1cF82ZDdhZjg5ZjA1MTE0MDkwOTcxZjlhNGVmZmQ5MTFjNSkKICAgICAgICAgICAgOwoKICAgICAgICAgICAgCiAgICAgICAgCiAgICAKICAgICAgICBwb2x5X2xpbmVfYzIzMzNkN2NjMWY1NDI2ODgyY2JhZjlmYTA0NjVmZTIuYmluZFRvb2x0aXAoCiAgICAgICAgICAgIGA8ZGl2PmAKICAgICAgICAgICAgKyBgTGluZSB0b29sdGlwYCArIGA8L2Rpdj5gLAogICAgICAgICAgICB7InN0aWNreSI6IHRydWV9CiAgICAgICAgKTsKICAgICAgICAKICAgIAogICAgICAgICAgICB2YXIgbGF5ZXJfY29udHJvbF84OTNhOTBmNzFlNDE0MzJkOGZlZmEyZjUxODFjYTc1YiA9IHsKICAgICAgICAgICAgICAgIGJhc2VfbGF5ZXJzIDogeyAiY2FydG9kYnBvc2l0cm9uIiA6IHRpbGVfbGF5ZXJfYjNjYjc1MWY0Mzg1NGY4ZGI3Mzk2YmFiNDczOTZiMzAsIH0sCiAgICAgICAgICAgICAgICBvdmVybGF5cyA6IHsgIkJhc2ljIG1hcmtlcnMiIDogZmVhdHVyZV9ncm91cF9jY2MyOTY2YWJhZDY0ZjcwYThhZDc0MjUwYWZmY2RiZiwgfQogICAgICAgICAgICAgICAgfTsKICAgICAgICAgICAgTC5jb250cm9sLmxheWVycygKICAgICAgICAgICAgICAgIGxheWVyX2NvbnRyb2xfODkzYTkwZjcxZTQxNDMyZDhmZWZhMmY1MTgxY2E3NWIuYmFzZV9sYXllcnMsCiAgICAgICAgICAgICAgICBsYXllcl9jb250cm9sXzg5M2E5MGY3MWU0MTQzMmQ4ZmVmYTJmNTE4MWNhNzViLm92ZXJsYXlzLAogICAgICAgICAgICAgICAge3Bvc2l0aW9uOiAndG9wbGVmdCcsCiAgICAgICAgICAgICAgICAgY29sbGFwc2VkOiB0cnVlLAogICAgICAgICAgICAgICAgIGF1dG9aSW5kZXg6IHRydWUKICAgICAgICAgICAgICAgIH0pLmFkZFRvKG1hcF84NGIxZWY2ZGQ3ZWQ0YmNjYWE0NTk0NGEwMmM3NWE0OCk7CiAgICAgICAgICAgIAogICAgICAgIAo8L3NjcmlwdD4=\" style=\"position:absolute;width:100%;height:100%;left:0;top:0;border:none !important;\" allowfullscreen webkitallowfullscreen mozallowfullscreen></iframe></div></div>"
      ],
      "text/plain": [
       "<folium.folium.Map at 0x7ff1da127588>"
      ]
     },
     "execution_count": 64,
     "metadata": {},
     "output_type": "execute_result"
    }
   ],
   "source": [
    "create_basic_markers_map()"
   ]
  },
  {
   "cell_type": "markdown",
   "metadata": {
    "collapsed": true,
    "deletable": true,
    "editable": true
   },
   "source": [
    "# Arrow line\n"
   ]
  },
  {
   "cell_type": "code",
   "execution_count": 72,
   "metadata": {
    "collapsed": true
   },
   "outputs": [],
   "source": [
    "def get_bearing(p1, p2):\n",
    "    \"\"\"\n",
    "    Returns compass bearing from p1 to p2\n",
    "\n",
    "    Parameters\n",
    "    p1 : namedtuple with lat lon\n",
    "    p2 : namedtuple with lat lon\n",
    "\n",
    "    Return\n",
    "    compass bearing of type float\n",
    "\n",
    "    Notes\n",
    "    Based on https://gist.github.com/jeromer/2005586\n",
    "    \"\"\"\n",
    "    import numpy as np\n",
    "    long_diff = np.radians(p2.lon - p1.lon)\n",
    "\n",
    "    lat1 = np.radians(p1.lat)\n",
    "    lat2 = np.radians(p2.lat)\n",
    "\n",
    "    x = np.sin(long_diff) * np.cos(lat2)\n",
    "    y = (np.cos(lat1) * np.sin(lat2)\n",
    "         - (np.sin(lat1) * np.cos(lat2)\n",
    "            * np.cos(long_diff)))\n",
    "\n",
    "    bearing = np.degrees(np.arctan2(x, y))\n",
    "\n",
    "    # adjusting for compass bearing\n",
    "    if bearing < 0:\n",
    "        return bearing + 360\n",
    "    return bearing\n",
    "\n",
    "def get_arrows(locations, color='blue', size=6, n_arrows=3, add_to=None):\n",
    "    \"\"\"Add arrows to a hypothetical line between the first 2 locations in the locations list.\n",
    "    Get a list of correctly placed and rotated arrows/markers to be plotted.\n",
    "\n",
    "    Args:\n",
    "        locations : List of lists of lat lon that represent the\n",
    "                    start and end of the line.\n",
    "                    eg [[41.1132, -96.1993],[41.3810, -95.8021]]\n",
    "                    The locations is a list so that it matches the input for the folium.PolyLine.\n",
    "        color : Whatever folium can use.  Default is 'blue'\n",
    "        size : Size of arrow. Default is 6\n",
    "        n_arrows : Number of arrows to create.  Default is 3.\n",
    "        add_to: map or FeatureGroup the arrows are added to.\n",
    "\n",
    "    Returns:\n",
    "        list of arrows/markers\n",
    "    \"\"\"\n",
    "    # TODO: generalize so that locations can be any length >=2, i.e. a PolyLine with more than 1 section.\n",
    "\n",
    "    from collections import namedtuple\n",
    "    import numpy as np\n",
    "    Point = namedtuple('Point', field_names=['lat', 'lon'])\n",
    "\n",
    "    # creating point from our Point named tuple\n",
    "    p1 = Point(locations[0][0], locations[0][1])\n",
    "    p2 = Point(locations[1][0], locations[1][1])\n",
    "\n",
    "    # getting the rotation needed for our marker.\n",
    "    # Subtracting 90 to account for the marker's orientation\n",
    "    # of due East(get_bearing returns North)\n",
    "    rotation = get_bearing(p1, p2) - 90\n",
    "\n",
    "    # get an evenly space list of lats and lons for our arrows\n",
    "    # note that I'm discarding the first and last for aesthetics\n",
    "    # as I'm using markers to denote the start and end\n",
    "    arrow_lats = np.linspace(p1.lat, p2.lat, n_arrows + 2)[1:n_arrows + 1]\n",
    "    arrow_lons = np.linspace(p1.lon, p2.lon, n_arrows + 2)[1:n_arrows + 1]\n",
    "\n",
    "    arrows = []\n",
    "\n",
    "    # creating each \"arrow\" and appending them to our arrows list\n",
    "    for points in zip(arrow_lats, arrow_lons):\n",
    "        arrows.append(folium.RegularPolygonMarker(location=points,\n",
    "                                                  fill_color=color, number_of_sides=3,\n",
    "                                                  radius=size, rotation=rotation).add_to(add_to))\n",
    "    return arrows"
   ]
  },
  {
   "cell_type": "code",
   "execution_count": 73,
   "metadata": {
    "collapsed": true,
    "deletable": true,
    "editable": true
   },
   "outputs": [],
   "source": [
    "def create_arrow_line_map():\n",
    "    m = create_blank_map()\n",
    "    fg = folium.FeatureGroup(name='Arrow line')\n",
    "    \n",
    "    # Line\n",
    "    coordinates = [kansas_city_coord, boston_coord]\n",
    "    folium.PolyLine(coordinates, popup=\"Line\", tooltip=\"Line tooltip\", color='blue', weight=5).add_to(fg)\n",
    "    \n",
    "    #Add arrows\n",
    "    get_arrows(locations=coordinates, color='#FFFFFF', n_arrows=3, add_to=fg)\n",
    "    \n",
    "    fg.add_to(m)\n",
    "    folium.LayerControl(position='topleft').add_to(m)\n",
    "    return m"
   ]
  },
  {
   "cell_type": "code",
   "execution_count": 74,
   "metadata": {
    "collapsed": false,
    "deletable": true,
    "editable": true,
    "scrolled": false
   },
   "outputs": [
    {
     "data": {
      "text/html": [
       "<div style=\"width:100%;\"><div style=\"position:relative;width:100%;height:0;padding-bottom:60%;\"><iframe src=\"data:text/html;charset=utf-8;base64,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\" style=\"position:absolute;width:100%;height:100%;left:0;top:0;border:none !important;\" allowfullscreen webkitallowfullscreen mozallowfullscreen></iframe></div></div>"
      ],
      "text/plain": [
       "<folium.folium.Map at 0x7ff1da0e2e10>"
      ]
     },
     "execution_count": 74,
     "metadata": {},
     "output_type": "execute_result"
    }
   ],
   "source": [
    "create_arrow_line_map()"
   ]
  },
  {
   "cell_type": "code",
   "execution_count": null,
   "metadata": {
    "collapsed": true,
    "deletable": true,
    "editable": true
   },
   "outputs": [],
   "source": []
  }
 ],
 "metadata": {
  "kernelspec": {
   "display_name": "Python3.5 with Watson Studio Spark 2.2.1",
   "language": "python",
   "name": "python3"
  },
  "language_info": {
   "codemirror_mode": {
    "name": "ipython",
    "version": 3
   },
   "file_extension": ".py",
   "mimetype": "text/x-python",
   "name": "python",
   "nbconvert_exporter": "python",
   "pygments_lexer": "ipython3",
   "version": "3.5.2"
  }
 },
 "nbformat": 4,
 "nbformat_minor": 2
}
