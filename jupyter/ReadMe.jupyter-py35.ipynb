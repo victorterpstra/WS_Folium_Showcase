{
 "cells": [
  {
   "cell_type": "markdown",
   "metadata": {
    "collapsed": true,
    "deletable": true,
    "editable": true
   },
   "source": [
    "# Read Me\n",
    "This project contains a number of examples that demonstrate the use of Folium map visualizations for Decision Optimization projects.<br>\n",
    "\n",
    "In particular:\n",
    "* Basic map\n",
    "* Basic markers like icons, circles, lines\n",
    "* GeoJSON Contours\n",
    "* Heatmaps based on GeoJSON contours\n",
    "* Tooltip\n",
    "* Popup\n",
    "    * HTML table in popup\n",
    "    * Plotly grapgh in popup"
   ]
  },
  {
   "cell_type": "markdown",
   "metadata": {},
   "source": [
    "## Instalation\n",
    "\n",
    "This projects requires:\n",
    "* Folium\n",
    "* GeoPandas\n",
    "* MapManager - a small re-usable Python module from dse_do_utils\n",
    "\n",
    "The installation notebook will help you instal these packages."
   ]
  },
  {
   "cell_type": "code",
   "execution_count": null,
   "metadata": {
    "collapsed": true
   },
   "outputs": [],
   "source": []
  }
 ],
 "metadata": {
  "kernelspec": {
   "display_name": "Python3.5 with Watson Studio Spark 2.2.1",
   "language": "python",
   "name": "python3"
  },
  "language_info": {
   "codemirror_mode": {
    "name": "ipython",
    "version": 3
   },
   "file_extension": ".py",
   "mimetype": "text/x-python",
   "name": "python",
   "nbconvert_exporter": "python",
   "pygments_lexer": "ipython3",
   "version": "3.5.2"
  }
 },
 "nbformat": 4,
 "nbformat_minor": 2
}
